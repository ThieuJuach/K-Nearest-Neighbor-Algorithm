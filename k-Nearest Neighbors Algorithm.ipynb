{
 "cells": [
  {
   "cell_type": "code",
   "execution_count": 2,
   "id": "e119906c-238e-4470-a07f-4a522e8d52b3",
   "metadata": {},
   "outputs": [],
   "source": [
    "from sklearn.datasets import load_digits"
   ]
  },
  {
   "cell_type": "code",
   "execution_count": 3,
   "id": "ff12de8e-e936-42b3-813a-2881b17aff44",
   "metadata": {},
   "outputs": [],
   "source": [
    "digits =load_digits()"
   ]
  },
  {
   "cell_type": "code",
   "execution_count": 5,
   "id": "cc84fab4-e3e0-4a01-9341-c9440c7b9652",
   "metadata": {},
   "outputs": [
    {
     "data": {
      "text/plain": [
       "sklearn.utils.Bunch"
      ]
     },
     "execution_count": 5,
     "metadata": {},
     "output_type": "execute_result"
    }
   ],
   "source": [
    "type(digits)"
   ]
  },
  {
   "cell_type": "code",
   "execution_count": 7,
   "id": "e32e8d1a-dfef-4f73-a51a-af0b92a9eaf7",
   "metadata": {},
   "outputs": [
    {
     "name": "stdout",
     "output_type": "stream",
     "text": [
      ".. _digits_dataset:\n",
      "\n",
      "Optical recognition of handwritten digits dataset\n",
      "--------------------------------------------------\n",
      "\n",
      "**Data Set Characteristics:**\n",
      "\n",
      "    :Number of Instances: 1797\n",
      "    :Number of Attributes: 64\n",
      "    :Attribute Information: 8x8 image of integer pixels in the range 0..16.\n",
      "    :Missing Attribute Values: None\n",
      "    :Creator: E. Alpaydin (alpaydin '@' boun.edu.tr)\n",
      "    :Date: July; 1998\n",
      "\n",
      "This is a copy of the test set of the UCI ML hand-written digits datasets\n",
      "https://archive.ics.uci.edu/ml/datasets/Optical+Recognition+of+Handwritten+Digits\n",
      "\n",
      "The data set contains images of hand-written digits: 10 classes where\n",
      "each class refers to a digit.\n",
      "\n",
      "Preprocessing programs made available by NIST were used to extract\n",
      "normalized bitmaps of handwritten digits from a preprinted form. From a\n",
      "total of 43 people, 30 contributed to the training set and different 13\n",
      "to the test set. 32x32 bitmaps are divided into nonoverlapping blocks of\n",
      "4x4 and the number of on pixels are counted in each block. This generates\n",
      "an input matrix of 8x8 where each element is an integer in the range\n",
      "0..16. This reduces dimensionality and gives invariance to small\n",
      "distortions.\n",
      "\n",
      "For info on NIST preprocessing routines, see M. D. Garris, J. L. Blue, G.\n",
      "T. Candela, D. L. Dimmick, J. Geist, P. J. Grother, S. A. Janet, and C.\n",
      "L. Wilson, NIST Form-Based Handprint Recognition System, NISTIR 5469,\n",
      "1994.\n",
      "\n",
      ".. topic:: References\n",
      "\n",
      "  - C. Kaynak (1995) Methods of Combining Multiple Classifiers and Their\n",
      "    Applications to Handwritten Digit Recognition, MSc Thesis, Institute of\n",
      "    Graduate Studies in Science and Engineering, Bogazici University.\n",
      "  - E. Alpaydin, C. Kaynak (1998) Cascading Classifiers, Kybernetika.\n",
      "  - Ken Tang and Ponnuthurai N. Suganthan and Xi Yao and A. Kai Qin.\n",
      "    Linear dimensionalityreduction using relevance weighted LDA. School of\n",
      "    Electrical and Electronic Engineering Nanyang Technological University.\n",
      "    2005.\n",
      "  - Claudio Gentile. A New Approximate Maximal Margin Classification\n",
      "    Algorithm. NIPS. 2000.\n",
      "\n"
     ]
    }
   ],
   "source": [
    "print(digits.DESCR)"
   ]
  },
  {
   "cell_type": "code",
   "execution_count": 20,
   "id": "7367c91d-f031-44c0-aa37-863cc60a7000",
   "metadata": {},
   "outputs": [
    {
     "data": {
      "text/plain": [
       "9"
      ]
     },
     "execution_count": 20,
     "metadata": {},
     "output_type": "execute_result"
    }
   ],
   "source": [
    "digits.target[9]"
   ]
  },
  {
   "cell_type": "code",
   "execution_count": 11,
   "id": "e1f2e517-d0bb-4ea8-93ca-98b45c970ae8",
   "metadata": {},
   "outputs": [
    {
     "data": {
      "text/plain": [
       "array([0, 4, 8, 2, 6, 0, 4, 8, 5, 0, 8, 7, 0, 7, 1, 3, 4, 4, 0, 8, 1, 2,\n",
       "       6, 9, 8, 4, 6, 7, 7, 2, 5, 4, 9, 2, 6, 0, 4, 8, 2, 6, 0, 6, 8, 1,\n",
       "       5, 2, 2, 6, 3, 6, 1, 5, 0, 6, 7, 9, 8, 4, 6, 7, 7, 2, 8, 0, 0, 4,\n",
       "       8, 2, 6, 0, 4, 8, 5, 0, 8, 7, 0, 7, 1, 3, 4, 4, 0, 8, 1, 2, 6, 9,\n",
       "       8, 4, 6, 7, 7, 2, 5, 4, 9, 2, 6, 0, 4, 8, 2, 6, 0, 6, 8, 1, 5, 2,\n",
       "       2, 6, 3, 6, 1, 5, 0, 6, 7, 1, 7, 3, 5, 6, 4, 8, 7, 8, 0, 0, 4, 8,\n",
       "       2, 6, 0, 4, 8, 5, 0, 8, 7, 0, 7, 1, 3, 4, 4, 0, 8, 1, 2, 6, 9, 8,\n",
       "       4, 6, 7, 7, 2, 5, 4, 9, 2, 6, 0, 4, 8, 2, 6, 0, 6, 8, 1, 5, 2, 2,\n",
       "       6, 3, 6, 1, 5, 0, 6, 7, 1, 7, 3, 5, 6, 4, 8, 7, 8, 0, 0, 4, 8, 2,\n",
       "       6, 0, 4, 8, 5, 0, 8, 7, 0, 7, 1, 3, 4, 4, 0, 8, 1, 2, 6, 9, 8, 4,\n",
       "       6, 7, 7, 2, 5, 4, 9, 3, 7, 1, 5, 9, 3, 7, 9, 5, 9, 7, 1, 2, 6, 3,\n",
       "       6, 1, 5, 0, 6, 4, 3, 6, 1, 3, 1, 4, 2, 9, 9, 8, 3, 7, 1, 5, 9, 3,\n",
       "       7, 9, 5, 9, 7, 1, 8, 2, 7, 6, 9, 9, 2, 7, 1, 3, 1, 4, 0, 9, 5, 2,\n",
       "       5, 4, 9, 8, 3, 7, 1, 5, 9, 3, 7, 9, 5, 9, 7, 1, 2, 0, 3, 3, 6, 5,\n",
       "       2, 0, 3, 4, 3, 6, 1, 3, 1, 4, 2, 9, 8, 8, 1, 5, 9, 3, 7, 1, 5, 9,\n",
       "       5, 9, 4, 3, 0, 8, 2, 7, 6, 9, 9, 2, 7, 1, 3, 1, 4, 0, 9, 5, 2, 5,\n",
       "       4, 9, 1, 5, 9, 3, 7, 1, 5, 9, 5, 9, 4, 3, 0, 8, 2, 7, 6, 9, 9, 2,\n",
       "       7, 1, 3, 1, 4, 0, 9, 5, 2, 5, 4, 9, 8, 3, 7, 1, 5, 1, 5, 9, 5, 9,\n",
       "       4, 3, 0, 8, 2, 7, 6, 9, 9, 0, 3, 4, 3, 6, 1, 3, 1, 4, 5, 4, 8, 1,\n",
       "       5, 9, 3, 7, 1, 5, 9, 5, 9, 4, 3, 0, 8, 2, 7, 6, 9, 9, 2, 7, 1, 3,\n",
       "       1, 4, 0, 9, 5, 2, 5, 4, 9, 8])"
      ]
     },
     "execution_count": 11,
     "metadata": {},
     "output_type": "execute_result"
    }
   ],
   "source": [
    "digits.target[::4]"
   ]
  },
  {
   "cell_type": "code",
   "execution_count": 13,
   "id": "b6ccb6d2-cc86-46bf-a1d3-da61ed439f61",
   "metadata": {},
   "outputs": [
    {
     "data": {
      "text/plain": [
       "array([ 0.,  0.,  5., 13.,  9.,  1.,  0.,  0.,  0.,  0., 13., 15., 10.,\n",
       "       15.,  5.,  0.,  0.,  3., 15.,  2.,  0., 11.,  8.,  0.,  0.,  4.,\n",
       "       12.,  0.,  0.,  8.,  8.,  0.,  0.,  5.,  8.,  0.,  0.,  9.,  8.,\n",
       "        0.,  0.,  4., 11.,  0.,  1., 12.,  7.,  0.,  0.,  2., 14.,  5.,\n",
       "       10., 12.,  0.,  0.,  0.,  0.,  6., 13., 10.,  0.,  0.,  0.])"
      ]
     },
     "execution_count": 13,
     "metadata": {},
     "output_type": "execute_result"
    }
   ],
   "source": [
    "digits.data[0]"
   ]
  },
  {
   "cell_type": "code",
   "execution_count": 21,
   "id": "1c6880e2-d99d-4b9f-b826-54f6cf7adc56",
   "metadata": {},
   "outputs": [
    {
     "data": {
      "text/plain": [
       "array([[ 0.,  0., 11., 12.,  0.,  0.,  0.,  0.],\n",
       "       [ 0.,  2., 16., 16., 16., 13.,  0.,  0.],\n",
       "       [ 0.,  3., 16., 12., 10., 14.,  0.,  0.],\n",
       "       [ 0.,  1., 16.,  1., 12., 15.,  0.,  0.],\n",
       "       [ 0.,  0., 13., 16.,  9., 15.,  2.,  0.],\n",
       "       [ 0.,  0.,  0.,  3.,  0.,  9., 11.,  0.],\n",
       "       [ 0.,  0.,  0.,  0.,  9., 15.,  4.,  0.],\n",
       "       [ 0.,  0.,  9., 12., 13.,  3.,  0.,  0.]])"
      ]
     },
     "execution_count": 21,
     "metadata": {},
     "output_type": "execute_result"
    }
   ],
   "source": [
    "digits.images[9]"
   ]
  },
  {
   "cell_type": "code",
   "execution_count": 16,
   "id": "02812bf1-ddb2-47b4-99b4-04002d34ad80",
   "metadata": {},
   "outputs": [
    {
     "data": {
      "text/plain": [
       "(1797, 64)"
      ]
     },
     "execution_count": 16,
     "metadata": {},
     "output_type": "execute_result"
    }
   ],
   "source": [
    "digits.data.shape"
   ]
  },
  {
   "cell_type": "code",
   "execution_count": 17,
   "id": "11f469fb-6c28-4236-bfbc-bfff978f89b2",
   "metadata": {},
   "outputs": [],
   "source": [
    "import matplotlib.pyplot as plt"
   ]
  },
  {
   "cell_type": "code",
   "execution_count": 19,
   "id": "b68f98ed-2fc3-499d-a5e9-acb5d138bc45",
   "metadata": {},
   "outputs": [
    {
     "data": {
      "image/png": "[encoded data removed]",
      "text/plain": [
       "<Figure size 600x400 with 24 Axes>"
      ]
     },
     "metadata": {},
     "output_type": "display_data"
    }
   ],
   "source": [
    "figure, axes =plt.subplots(nrows=4, ncols=6, figsize=(6,4))\n",
    "\n",
    "for item in zip (axes.ravel(), digits.images, digits.target):\n",
    "    axes, image, target = item\n",
    "    axes.imshow(image, cmap=plt.cm.gray_r)\n",
    "    axes.set_xticks([])\n",
    "    axes.set_yticks([])\n",
    "    axes.set_title(target)\n",
    "plt.tight_layout()"
   ]
  },
  {
   "cell_type": "code",
   "execution_count": 22,
   "id": "423bdf12-956b-43e3-a197-9ef2dcb3e12c",
   "metadata": {},
   "outputs": [],
   "source": [
    "from sklearn.model_selection import train_test_split"
   ]
  },
  {
   "cell_type": "code",
   "execution_count": 23,
   "id": "61de3547-0da2-4d4f-a4e4-30ede02a8448",
   "metadata": {},
   "outputs": [],
   "source": [
    "X_train, X_test, y_train, y_test=train_test_split(digits.data, digits.target, random_state=11)"
   ]
  },
  {
   "cell_type": "code",
   "execution_count": 25,
   "id": "f7cd6b81-bb27-48ea-9a9f-0a816fe98221",
   "metadata": {},
   "outputs": [
    {
     "data": {
      "text/plain": [
       "(1797, 64)"
      ]
     },
     "execution_count": 25,
     "metadata": {},
     "output_type": "execute_result"
    }
   ],
   "source": [
    "digits.data.shape"
   ]
  },
  {
   "cell_type": "code",
   "execution_count": 26,
   "id": "06604658-fbde-4197-a515-b83a16991dd2",
   "metadata": {},
   "outputs": [
    {
     "data": {
      "text/plain": [
       "(1347, 64)"
      ]
     },
     "execution_count": 26,
     "metadata": {},
     "output_type": "execute_result"
    }
   ],
   "source": [
    "X_train.shape"
   ]
  },
  {
   "cell_type": "code",
   "execution_count": 27,
   "id": "a938e681-3cf8-42ca-a95b-ba0d6fe0743e",
   "metadata": {},
   "outputs": [
    {
     "data": {
      "text/plain": [
       "(1347,)"
      ]
     },
     "execution_count": 27,
     "metadata": {},
     "output_type": "execute_result"
    }
   ],
   "source": [
    "y_train.shape"
   ]
  },
  {
   "cell_type": "code",
   "execution_count": 28,
   "id": "18328b7e-b2b3-4508-a3ca-52ba9bacc259",
   "metadata": {},
   "outputs": [
    {
     "data": {
      "text/plain": [
       "(450, 64)"
      ]
     },
     "execution_count": 28,
     "metadata": {},
     "output_type": "execute_result"
    }
   ],
   "source": [
    "X_test.shape"
   ]
  },
  {
   "cell_type": "code",
   "execution_count": 29,
   "id": "67002dd0-01ff-4d24-86bd-ef0af25e816c",
   "metadata": {},
   "outputs": [
    {
     "data": {
      "text/plain": [
       "74.95826377295492"
      ]
     },
     "execution_count": 29,
     "metadata": {},
     "output_type": "execute_result"
    }
   ],
   "source": [
    "1347/1797*100"
   ]
  },
  {
   "cell_type": "code",
   "execution_count": 30,
   "id": "2c6beffb-207c-4d66-9aa9-f7f76a153dc1",
   "metadata": {},
   "outputs": [],
   "source": [
    "# creating the model"
   ]
  },
  {
   "cell_type": "code",
   "execution_count": 31,
   "id": "10fb2e39-a029-409e-b75d-d4ab88e108fd",
   "metadata": {},
   "outputs": [],
   "source": [
    "from sklearn.neighbors import KNeighborsClassifier"
   ]
  },
  {
   "cell_type": "code",
   "execution_count": 32,
   "id": "d92c05c5-50f5-4cf1-8a92-93cc3e819e30",
   "metadata": {},
   "outputs": [],
   "source": [
    "knn=KNeighborsClassifier()"
   ]
  },
  {
   "cell_type": "code",
   "execution_count": 33,
   "id": "948e4e19-540b-43ec-8cb0-29c9b4de88dd",
   "metadata": {},
   "outputs": [
    {
     "data": {
      "text/plain": [
       "KNeighborsClassifier()"
      ]
     },
     "execution_count": 33,
     "metadata": {},
     "output_type": "execute_result"
    }
   ],
   "source": [
    "knn.fit(X=X_train, y=y_train)"
   ]
  },
  {
   "cell_type": "code",
   "execution_count": 34,
   "id": "2e036a8d-073d-402a-b30d-aaba04981fc0",
   "metadata": {},
   "outputs": [],
   "source": [
    "# prediction"
   ]
  },
  {
   "cell_type": "code",
   "execution_count": 35,
   "id": "9a3f5ac7-863d-4eae-9b9c-12d20a83de7e",
   "metadata": {},
   "outputs": [
    {
     "name": "stderr",
     "output_type": "stream",
     "text": [
      "C:\\Users\\lawre\\anaconda3\\lib\\site-packages\\sklearn\\neighbors\\_classification.py:228: FutureWarning: Unlike other reduction functions (e.g. `skew`, `kurtosis`), the default behavior of `mode` typically preserves the axis it acts along. In SciPy 1.11.0, this behavior will change: the default value of `keepdims` will become False, the `axis` over which the statistic is taken will be eliminated, and the value None will no longer be accepted. Set `keepdims` to True or False to avoid this warning.\n",
      "  mode, _ = stats.mode(_y[neigh_ind, k], axis=1)\n"
     ]
    }
   ],
   "source": [
    "predicated = knn.predict(X=X_test)"
   ]
  },
  {
   "cell_type": "code",
   "execution_count": 36,
   "id": "f8b0a738-8fdc-4421-b6df-899fd0b96cd4",
   "metadata": {},
   "outputs": [],
   "source": [
    "expected = y_test"
   ]
  },
  {
   "cell_type": "code",
   "execution_count": 37,
   "id": "479b6abd-2898-45ee-a3f6-73fe45f2033c",
   "metadata": {},
   "outputs": [
    {
     "data": {
      "text/plain": [
       "array([0, 4, 9, 9, 3, 1, 4, 1, 5, 0, 4, 9, 4, 1, 5, 3, 3, 8, 3, 6, 9, 6,\n",
       "       0, 6, 9, 3, 2, 1, 8, 1, 7, 0, 4, 4, 1, 5, 3, 0, 5, 7, 3, 9, 6, 5,\n",
       "       5, 8, 8, 1, 1, 2, 4, 9, 5, 6, 9, 2, 1, 8, 5, 3, 2, 7, 9, 6, 3, 7,\n",
       "       4, 2, 0, 1, 0, 2, 7, 3, 5, 1, 8, 7, 7, 2, 0, 6, 6, 4, 6, 8, 3, 7,\n",
       "       4, 1, 9, 3, 5, 4, 0, 3, 1, 3, 3, 1, 2, 8, 5, 0, 1, 7, 2, 1, 3, 3,\n",
       "       7, 4, 0, 2, 9, 0, 4, 2, 5, 6, 1, 2, 6, 1, 8, 6, 0, 2, 6, 2, 6, 1,\n",
       "       9, 4, 8, 0, 4, 0, 2, 3, 4, 4, 1, 7, 9, 7, 2, 0, 3, 7, 8, 8, 3, 5,\n",
       "       4, 3, 5, 4, 9, 1, 3, 8, 8, 1, 1, 6, 7, 3, 3, 9, 9, 0, 6, 1, 0, 1,\n",
       "       0, 7, 6, 1, 5, 9, 0, 2, 2, 8, 6, 8, 3, 2, 9, 2, 9, 3, 0, 1, 2, 7,\n",
       "       4, 9, 9, 4, 9, 3, 2, 7, 2, 6, 9, 8, 0, 2, 6, 3, 4, 2, 7, 6, 6, 7,\n",
       "       7, 6, 0, 7, 6, 6, 0, 7, 1, 4, 4, 1, 0, 9, 4, 0, 4, 2, 4, 6, 5, 3,\n",
       "       8, 4, 1, 3, 9, 8, 3, 8, 9, 4, 2, 0, 4, 9, 2, 3, 5, 0, 8, 2, 5, 4,\n",
       "       7, 5, 5, 1, 0, 2, 9, 0, 7, 7, 6, 2, 1, 5, 4, 1, 0, 5, 1, 6, 5, 4,\n",
       "       8, 7, 5, 9, 0, 2, 2, 3, 4, 4, 8, 8, 8, 5, 3, 0, 7, 0, 3, 0, 7, 9,\n",
       "       8, 8, 3, 3, 9, 8, 2, 8, 4, 7, 7, 9, 1, 3, 5, 8, 8, 2, 2, 9, 4, 6,\n",
       "       8, 0, 6, 1, 2, 7, 8, 8, 9, 7, 9, 0, 3, 7, 2, 3, 0, 7, 3, 9, 9, 4,\n",
       "       2, 1, 7, 4, 4, 5, 7, 4, 7, 4, 4, 5, 2, 4, 2, 0, 6, 3, 6, 4, 2, 7,\n",
       "       2, 2, 8, 2, 5, 8, 1, 0, 6, 6, 1, 5, 6, 8, 6, 7, 0, 1, 1, 9, 7, 2,\n",
       "       7, 8, 2, 4, 8, 9, 8, 4, 4, 2, 5, 5, 5, 2, 6, 6, 9, 6, 9, 8, 2, 1,\n",
       "       2, 3, 8, 7, 5, 9, 6, 6, 0, 0, 4, 7, 7, 7, 8, 2, 5, 5, 5, 8, 4, 6,\n",
       "       0, 5, 9, 1, 3, 1, 2, 2, 1, 0])"
      ]
     },
     "execution_count": 37,
     "metadata": {},
     "output_type": "execute_result"
    }
   ],
   "source": [
    "expected"
   ]
  },
  {
   "cell_type": "code",
   "execution_count": 38,
   "id": "e972ced3-a74b-4a45-a9ab-9f8d90ecc812",
   "metadata": {},
   "outputs": [
    {
     "data": {
      "text/plain": [
       "array([0, 4, 9, 9, 3, 1, 4, 1, 5, 0, 4, 9, 4, 1, 5, 3, 3, 8, 5, 6, 9, 6,\n",
       "       0, 6, 9, 3, 2, 1, 8, 1, 7, 0, 4, 4, 1, 5, 3, 0, 5, 7, 3, 9, 6, 5,\n",
       "       5, 8, 8, 1, 1, 2, 4, 8, 5, 6, 9, 2, 1, 8, 5, 3, 2, 7, 9, 6, 3, 7,\n",
       "       4, 2, 0, 1, 0, 2, 7, 3, 5, 1, 8, 7, 7, 2, 0, 6, 6, 4, 6, 8, 3, 7,\n",
       "       4, 1, 9, 3, 5, 4, 0, 3, 1, 3, 3, 1, 2, 8, 5, 0, 1, 7, 2, 1, 3, 3,\n",
       "       7, 4, 0, 2, 9, 0, 4, 2, 5, 6, 1, 2, 6, 1, 8, 6, 0, 2, 6, 2, 6, 1,\n",
       "       9, 4, 8, 0, 4, 0, 2, 3, 4, 4, 1, 7, 4, 7, 2, 0, 3, 7, 8, 8, 7, 5,\n",
       "       4, 3, 5, 4, 9, 1, 3, 8, 8, 1, 1, 6, 7, 3, 3, 9, 9, 0, 6, 1, 0, 1,\n",
       "       0, 7, 6, 1, 5, 9, 0, 2, 2, 8, 6, 8, 3, 2, 9, 2, 9, 3, 0, 1, 2, 7,\n",
       "       4, 9, 9, 7, 9, 3, 2, 7, 2, 6, 9, 8, 0, 2, 6, 3, 4, 2, 7, 6, 6, 7,\n",
       "       7, 6, 0, 7, 6, 6, 0, 7, 1, 4, 4, 1, 0, 9, 4, 0, 4, 2, 4, 6, 5, 3,\n",
       "       8, 4, 1, 3, 9, 8, 3, 8, 9, 4, 2, 0, 4, 9, 2, 3, 5, 0, 8, 2, 5, 4,\n",
       "       7, 5, 5, 1, 0, 2, 9, 0, 7, 7, 6, 2, 1, 5, 4, 1, 0, 5, 1, 6, 5, 4,\n",
       "       8, 7, 5, 9, 0, 2, 2, 3, 4, 4, 8, 8, 2, 5, 3, 0, 7, 0, 3, 0, 7, 9,\n",
       "       8, 8, 3, 3, 9, 8, 2, 8, 4, 7, 7, 9, 1, 3, 5, 9, 8, 2, 2, 9, 4, 6,\n",
       "       8, 0, 6, 1, 2, 7, 8, 8, 9, 7, 9, 0, 3, 7, 2, 3, 0, 7, 3, 9, 9, 4,\n",
       "       2, 1, 7, 4, 4, 5, 7, 4, 7, 4, 4, 5, 2, 4, 2, 0, 6, 3, 6, 4, 2, 7,\n",
       "       2, 2, 3, 2, 5, 8, 1, 0, 6, 6, 1, 5, 6, 8, 6, 7, 0, 1, 1, 9, 7, 2,\n",
       "       7, 8, 2, 4, 8, 9, 8, 4, 4, 2, 5, 5, 5, 2, 6, 6, 9, 6, 9, 8, 2, 1,\n",
       "       2, 3, 3, 7, 5, 9, 6, 6, 0, 0, 4, 7, 7, 7, 8, 2, 5, 5, 5, 1, 4, 6,\n",
       "       0, 5, 9, 1, 3, 1, 2, 2, 1, 0])"
      ]
     },
     "execution_count": 38,
     "metadata": {},
     "output_type": "execute_result"
    }
   ],
   "source": [
    "predicated"
   ]
  },
  {
   "cell_type": "code",
   "execution_count": 39,
   "id": "6f856160-66d1-4026-8bd0-4abd54b00707",
   "metadata": {},
   "outputs": [],
   "source": [
    "wrong=[(p,e) for (p,e) in zip(predicated, expected) if p !=e]"
   ]
  },
  {
   "cell_type": "code",
   "execution_count": 40,
   "id": "00f03823-fb96-4c9c-8d33-1749f7d8d967",
   "metadata": {},
   "outputs": [
    {
     "data": {
      "text/plain": [
       "[(5, 3),\n",
       " (8, 9),\n",
       " (4, 9),\n",
       " (7, 3),\n",
       " (7, 4),\n",
       " (2, 8),\n",
       " (9, 8),\n",
       " (3, 8),\n",
       " (3, 8),\n",
       " (1, 8)]"
      ]
     },
     "execution_count": 40,
     "metadata": {},
     "output_type": "execute_result"
    }
   ],
   "source": [
    "wrong"
   ]
  },
  {
   "cell_type": "code",
   "execution_count": 42,
   "id": "b445b179-134e-4d4e-b9e6-82de55964f75",
   "metadata": {},
   "outputs": [
    {
     "data": {
      "text/plain": [
       "97.77777777777777"
      ]
     },
     "execution_count": 42,
     "metadata": {},
     "output_type": "execute_result"
    }
   ],
   "source": [
    "440/450*100"
   ]
  },
  {
   "cell_type": "code",
   "execution_count": 44,
   "id": "b9171edb-6160-46c0-8852-29e03cd4d23c",
   "metadata": {},
   "outputs": [
    {
     "name": "stdout",
     "output_type": "stream",
     "text": [
      "97.78%\n"
     ]
    },
    {
     "name": "stderr",
     "output_type": "stream",
     "text": [
      "C:\\Users\\lawre\\anaconda3\\lib\\site-packages\\sklearn\\neighbors\\_classification.py:228: FutureWarning: Unlike other reduction functions (e.g. `skew`, `kurtosis`), the default behavior of `mode` typically preserves the axis it acts along. In SciPy 1.11.0, this behavior will change: the default value of `keepdims` will become False, the `axis` over which the statistic is taken will be eliminated, and the value None will no longer be accepted. Set `keepdims` to True or False to avoid this warning.\n",
      "  mode, _ = stats.mode(_y[neigh_ind, k], axis=1)\n"
     ]
    }
   ],
   "source": [
    "print(f'{knn.score(X_test, y_test):.2%}')"
   ]
  },
  {
   "cell_type": "code",
   "execution_count": 45,
   "id": "2cc6a9e4-ec10-4b73-8a11-4bd162e37c03",
   "metadata": {},
   "outputs": [],
   "source": [
    "from sklearn.metrics import confusion_matrix"
   ]
  },
  {
   "cell_type": "code",
   "execution_count": 46,
   "id": "4041739e-5315-486b-a669-5a9b401d1f8e",
   "metadata": {},
   "outputs": [],
   "source": [
    "confusion=confusion_matrix(y_true=expected, y_pred=predicated)"
   ]
  },
  {
   "cell_type": "code",
   "execution_count": 47,
   "id": "77eda8b6-65b9-4b16-b2a7-4f8eb280d467",
   "metadata": {},
   "outputs": [
    {
     "data": {
      "text/plain": [
       "array([[45,  0,  0,  0,  0,  0,  0,  0,  0,  0],\n",
       "       [ 0, 45,  0,  0,  0,  0,  0,  0,  0,  0],\n",
       "       [ 0,  0, 54,  0,  0,  0,  0,  0,  0,  0],\n",
       "       [ 0,  0,  0, 42,  0,  1,  0,  1,  0,  0],\n",
       "       [ 0,  0,  0,  0, 49,  0,  0,  1,  0,  0],\n",
       "       [ 0,  0,  0,  0,  0, 38,  0,  0,  0,  0],\n",
       "       [ 0,  0,  0,  0,  0,  0, 42,  0,  0,  0],\n",
       "       [ 0,  0,  0,  0,  0,  0,  0, 45,  0,  0],\n",
       "       [ 0,  1,  1,  2,  0,  0,  0,  0, 39,  1],\n",
       "       [ 0,  0,  0,  0,  1,  0,  0,  0,  1, 41]], dtype=int64)"
      ]
     },
     "execution_count": 47,
     "metadata": {},
     "output_type": "execute_result"
    }
   ],
   "source": [
    "confusion"
   ]
  },
  {
   "cell_type": "code",
   "execution_count": null,
   "id": "f63172c0-5b44-4994-bb26-cb53139c39dd",
   "metadata": {},
   "outputs": [],
   "source": []
  }
 ],
 "metadata": {
  "kernelspec": {
   "display_name": "Python 3 (ipykernel)",
   "language": "python",
   "name": "python3"
  },
  "language_info": {
   "codemirror_mode": {
    "name": "ipython",
    "version": 3
   },
   "file_extension": ".py",
   "mimetype": "text/x-python",
   "name": "python",
   "nbconvert_exporter": "python",
   "pygments_lexer": "ipython3",
   "version": "3.9.13"
  }
 },
 "nbformat": 4,
 "nbformat_minor": 5
}
